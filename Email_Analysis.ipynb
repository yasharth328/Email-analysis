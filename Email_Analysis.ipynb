{
  "cells": [
    {
      "cell_type": "markdown",
      "metadata": {
        "id": "view-in-github",
        "colab_type": "text"
      },
      "source": [
        "<a href=\"https://colab.research.google.com/github/yasharth328/Email-analysis/blob/main/Email_Analysis.ipynb\" target=\"_parent\"><img src=\"https://colab.research.google.com/assets/colab-badge.svg\" alt=\"Open In Colab\"/></a>"
      ]
    },
    {
      "cell_type": "markdown",
      "id": "1cb037e7-c20d-49ea-a657-b4d331d45289",
      "metadata": {
        "id": "1cb037e7-c20d-49ea-a657-b4d331d45289"
      },
      "source": [
        "# Importing Libraries"
      ]
    },
    {
      "cell_type": "code",
      "execution_count": null,
      "id": "b262e0ef-0b1a-44b9-9ee7-0d388ba2cd79",
      "metadata": {
        "id": "b262e0ef-0b1a-44b9-9ee7-0d388ba2cd79"
      },
      "outputs": [],
      "source": [
        "import matplotlib.pyplot as plt\n",
        "import seaborn as sns\n",
        "import pandas as pd\n",
        "import numpy as np\n",
        "import mailbox\n",
        "import csv\n",
        "import re\n",
        "import datetime"
      ]
    },
    {
      "cell_type": "markdown",
      "id": "bd2e33b8-9da1-440c-8a93-a7d95e012b9d",
      "metadata": {
        "id": "bd2e33b8-9da1-440c-8a93-a7d95e012b9d"
      },
      "source": [
        "### Function to extract email-id"
      ]
    },
    {
      "cell_type": "code",
      "execution_count": null,
      "id": "d655766c-68dc-4591-a4d9-e4b8d3dd0e98",
      "metadata": {
        "id": "d655766c-68dc-4591-a4d9-e4b8d3dd0e98"
      },
      "outputs": [],
      "source": [
        "def emailID(s):\n",
        "    return re.findall('\\S+@\\S+',s)"
      ]
    },
    {
      "cell_type": "markdown",
      "id": "8460ca6e-bbee-4b97-b8f4-9c4543881b94",
      "metadata": {
        "id": "8460ca6e-bbee-4b97-b8f4-9c4543881b94"
      },
      "source": [
        "### Uploading Zipped Data"
      ]
    },
    {
      "cell_type": "code",
      "execution_count": null,
      "id": "bc5787f7-af21-4e72-bb43-38e9beaca21c",
      "metadata": {
        "id": "bc5787f7-af21-4e72-bb43-38e9beaca21c",
        "outputId": "afbe3573-b45f-4380-f9ec-13a7df2a7dbb"
      },
      "outputs": [
        {
          "data": {
            "text/plain": [
              "<mailbox.mbox at 0x2bddc037f10>"
            ]
          },
          "execution_count": 40,
          "metadata": {},
          "output_type": "execute_result"
        }
      ],
      "source": [
        "mboxfile = 'D:\\\\Data\\\\mail.mbox'\n",
        "mbox = mailbox.mbox(mboxfile)\n",
        "mbox"
      ]
    },
    {
      "cell_type": "markdown",
      "id": "9cd0fc3e-6c08-4d35-aff0-192e935496be",
      "metadata": {
        "id": "9cd0fc3e-6c08-4d35-aff0-192e935496be"
      },
      "source": [
        "### Displaying Keys"
      ]
    },
    {
      "cell_type": "code",
      "execution_count": null,
      "id": "4c552794-4430-46fa-b137-276fbca85f42",
      "metadata": {
        "id": "4c552794-4430-46fa-b137-276fbca85f42",
        "outputId": "2abab926-0db7-4f93-f802-a1b85c539834"
      },
      "outputs": [
        {
          "name": "stdout",
          "output_type": "stream",
          "text": [
            "X-GM-THRID\n",
            "X-Gmail-Labels\n",
            "Delivered-To\n",
            "Received\n",
            "X-Received\n",
            "ARC-Seal\n",
            "ARC-Message-Signature\n",
            "ARC-Authentication-Results\n",
            "Return-Path\n",
            "Received\n",
            "Received-SPF\n",
            "Authentication-Results\n",
            "ARC-Seal\n",
            "ARC-Message-Signature\n",
            "ARC-Authentication-Results\n",
            "DKIM-Signature\n",
            "X-Google-DKIM-Signature\n",
            "X-Gm-Message-State\n",
            "X-Google-Smtp-Source\n",
            "X-Received\n",
            "X-BeenThere\n",
            "Received\n",
            "X-Received\n",
            "ARC-Seal\n",
            "ARC-Message-Signature\n",
            "ARC-Authentication-Results\n",
            "Received\n",
            "Received-SPF\n",
            "X-Received\n",
            "MIME-Version\n",
            "From\n",
            "Date\n",
            "Message-ID\n",
            "Subject\n",
            "To\n",
            "Cc\n",
            "Content-Type\n",
            "X-Original-Sender\n",
            "X-Original-Authentication-Results\n",
            "Precedence\n",
            "Mailing-list\n",
            "List-ID\n",
            "X-Spam-Checked-In-Group\n",
            "X-Google-Group-Id\n",
            "List-Post\n",
            "List-Help\n",
            "List-Archive\n",
            "List-Subscribe\n",
            "List-Unsubscribe\n"
          ]
        }
      ],
      "source": [
        "for key in mbox[0].keys():\n",
        "    print(key)   \n"
      ]
    },
    {
      "cell_type": "markdown",
      "id": "cf9ba9dc-547f-4d96-9bf0-437bf48f7f5a",
      "metadata": {
        "id": "cf9ba9dc-547f-4d96-9bf0-437bf48f7f5a"
      },
      "source": [
        "### Creating new CSV"
      ]
    },
    {
      "cell_type": "code",
      "execution_count": null,
      "id": "bd8f5f6e-ab36-4bae-aefb-13386dbdca72",
      "metadata": {
        "id": "bd8f5f6e-ab36-4bae-aefb-13386dbdca72"
      },
      "outputs": [],
      "source": [
        "with open(\"mbox.csv\", 'w') as csvFile:\n",
        "        writer = csv.writer(csvFile)\n",
        "        for j in mbox:\n",
        "                writer.writerow([\n",
        "                        j['Subject'],\n",
        "                        j['From'],\n",
        "                        j['Date'],\n",
        "                        j['To'],\n",
        "                        j['X-Gmail-Labels'],\n",
        "                        j['X-GM-THRID']\n",
        "                ])\n",
        "df = pd.read_csv('mbox.csv', names=['Subject', 'From', 'Date', 'To', 'X-Gmail-Labels', 'X-GM-THRID'])"
      ]
    },
    {
      "cell_type": "code",
      "execution_count": null,
      "id": "47cea93b-7e3c-46cd-b81c-538641a4354b",
      "metadata": {
        "id": "47cea93b-7e3c-46cd-b81c-538641a4354b",
        "outputId": "3b93e173-7940-4858-95f8-401caef96d80"
      },
      "outputs": [
        {
          "data": {
            "text/html": [
              "<div>\n",
              "<style scoped>\n",
              "    .dataframe tbody tr th:only-of-type {\n",
              "        vertical-align: middle;\n",
              "    }\n",
              "\n",
              "    .dataframe tbody tr th {\n",
              "        vertical-align: top;\n",
              "    }\n",
              "\n",
              "    .dataframe thead th {\n",
              "        text-align: right;\n",
              "    }\n",
              "</style>\n",
              "<table border=\"1\" class=\"dataframe\">\n",
              "  <thead>\n",
              "    <tr style=\"text-align: right;\">\n",
              "      <th></th>\n",
              "      <th>Subject</th>\n",
              "      <th>From</th>\n",
              "      <th>Date</th>\n",
              "      <th>To</th>\n",
              "      <th>X-Gmail-Labels</th>\n",
              "      <th>X-GM-THRID</th>\n",
              "    </tr>\n",
              "  </thead>\n",
              "  <tbody>\n",
              "    <tr>\n",
              "      <th>0</th>\n",
              "      <td>Meeting with vice chancellor sir</td>\n",
              "      <td>Vivek Sehgal &lt;vivek.sehgal@juitsolan.in&gt;</td>\n",
              "      <td>Thu, 2 Dec 2021 10:11:56 +0530</td>\n",
              "      <td>2019 Batch &lt;2019batch@juitsolan.in&gt;</td>\n",
              "      <td>Inbox,Important,Opened,Category forums</td>\n",
              "      <td>1718008242391626893</td>\n",
              "    </tr>\n",
              "    <tr>\n",
              "      <th>1</th>\n",
              "      <td>New announcement: \"Join the meet link for quiz...</td>\n",
              "      <td>\"Monika Bharti Jindal (Classroom)\" &lt;no-reply+f...</td>\n",
              "      <td>Mon, 29 Nov 2021 22:50:31 -0800</td>\n",
              "      <td>191328@juitsolan.in</td>\n",
              "      <td>Inbox,Important,Opened,Category updates</td>\n",
              "      <td>1717834908504542210</td>\n",
              "    </tr>\n",
              "    <tr>\n",
              "      <th>2</th>\n",
              "      <td>New material: \"Practical 8\"</td>\n",
              "      <td>\"Ruchi Verma (Classroom)\" &lt;no-reply+5fec3f03@c...</td>\n",
              "      <td>Tue, 23 Nov 2021 23:58:27 -0800</td>\n",
              "      <td>191328@juitsolan.in</td>\n",
              "      <td>Inbox,Important,Opened,Category updates</td>\n",
              "      <td>1717295601347155409</td>\n",
              "    </tr>\n",
              "    <tr>\n",
              "      <th>3</th>\n",
              "      <td>New material: \"Polymer\"</td>\n",
              "      <td>\"Surajit Kumar Hazra (Classroom)\" &lt;no-reply+64...</td>\n",
              "      <td>Sat, 13 Nov 2021 02:05:35 -0800</td>\n",
              "      <td>191328@juitsolan.in</td>\n",
              "      <td>Inbox,Important,Opened,Category updates</td>\n",
              "      <td>1716307032633114260</td>\n",
              "    </tr>\n",
              "    <tr>\n",
              "      <th>4</th>\n",
              "      <td>New announcement: \"Class starts 9.15\"</td>\n",
              "      <td>\"Anupriya Kaur (Classroom)\" &lt;no-reply+aead32d5...</td>\n",
              "      <td>Fri, 26 Nov 2021 18:51:26 -0800</td>\n",
              "      <td>191328@juitsolan.in</td>\n",
              "      <td>Inbox,Important,Opened,Category updates</td>\n",
              "      <td>1717548075982427187</td>\n",
              "    </tr>\n",
              "    <tr>\n",
              "      <th>5</th>\n",
              "      <td>New assignment: \"Assignment -1\"</td>\n",
              "      <td>\"Praveen Modi (Classroom)\" &lt;no-reply+2056b0fa@...</td>\n",
              "      <td>Fri, 12 Nov 2021 21:28:21 -0800</td>\n",
              "      <td>191328@juitsolan.in</td>\n",
              "      <td>Inbox,Important,Opened,Category updates</td>\n",
              "      <td>1716289590093506462</td>\n",
              "    </tr>\n",
              "    <tr>\n",
              "      <th>6</th>\n",
              "      <td>Joint Placement Drive - HPPERC on November 25,...</td>\n",
              "      <td>Nafis uddin Khan &lt;nafisuddin.khan@juitsolan.in&gt;</td>\n",
              "      <td>Wed, 24 Nov 2021 11:04:24 +0530</td>\n",
              "      <td>2018 Batch &lt;2018batch@juitsolan.in&gt;, 2019 Batc...</td>\n",
              "      <td>Inbox,Important,Opened,Category forums</td>\n",
              "      <td>1717286750220539256</td>\n",
              "    </tr>\n",
              "    <tr>\n",
              "      <th>7</th>\n",
              "      <td>Instructions regarding Test-II examination</td>\n",
              "      <td>Vineet Sharma &lt;vineet.sharma@juitsolan.in&gt;</td>\n",
              "      <td>Fri, 22 Oct 2021 12:02:44 +0530</td>\n",
              "      <td>cs51@juitsolan.in, cs52@juitsolan.in, cs53@jui...</td>\n",
              "      <td>Inbox,Important,Opened,Category forums</td>\n",
              "      <td>1714300636339637401</td>\n",
              "    </tr>\n",
              "    <tr>\n",
              "      <th>8</th>\n",
              "      <td>Due tomorrow: 'Assignment 2'</td>\n",
              "      <td>\"Himanshu Jindal (Classroom)\" &lt;no-reply+859a9f...</td>\n",
              "      <td>Sun, 07 Nov 2021 10:34:39 -0800</td>\n",
              "      <td>191328@juitsolan.in</td>\n",
              "      <td>Inbox,Important,Opened,Category updates</td>\n",
              "      <td>1715795478582737120</td>\n",
              "    </tr>\n",
              "    <tr>\n",
              "      <th>9</th>\n",
              "      <td>=?UTF-8?Q?New_announcement=3A_=22Dear_Students...</td>\n",
              "      <td>\"Monika Bharti Jindal (Classroom)\" &lt;no-reply+f...</td>\n",
              "      <td>Wed, 13 Oct 2021 23:06:00 -0700</td>\n",
              "      <td>191328@juitsolan.in</td>\n",
              "      <td>Inbox,Important,Opened,Category updates</td>\n",
              "      <td>1713574049984610468</td>\n",
              "    </tr>\n",
              "  </tbody>\n",
              "</table>\n",
              "</div>"
            ],
            "text/plain": [
              "                                             Subject  \\\n",
              "0                   Meeting with vice chancellor sir   \n",
              "1  New announcement: \"Join the meet link for quiz...   \n",
              "2                        New material: \"Practical 8\"   \n",
              "3                            New material: \"Polymer\"   \n",
              "4              New announcement: \"Class starts 9.15\"   \n",
              "5                    New assignment: \"Assignment -1\"   \n",
              "6  Joint Placement Drive - HPPERC on November 25,...   \n",
              "7         Instructions regarding Test-II examination   \n",
              "8                       Due tomorrow: 'Assignment 2'   \n",
              "9  =?UTF-8?Q?New_announcement=3A_=22Dear_Students...   \n",
              "\n",
              "                                                From  \\\n",
              "0           Vivek Sehgal <vivek.sehgal@juitsolan.in>   \n",
              "1  \"Monika Bharti Jindal (Classroom)\" <no-reply+f...   \n",
              "2  \"Ruchi Verma (Classroom)\" <no-reply+5fec3f03@c...   \n",
              "3  \"Surajit Kumar Hazra (Classroom)\" <no-reply+64...   \n",
              "4  \"Anupriya Kaur (Classroom)\" <no-reply+aead32d5...   \n",
              "5  \"Praveen Modi (Classroom)\" <no-reply+2056b0fa@...   \n",
              "6    Nafis uddin Khan <nafisuddin.khan@juitsolan.in>   \n",
              "7         Vineet Sharma <vineet.sharma@juitsolan.in>   \n",
              "8  \"Himanshu Jindal (Classroom)\" <no-reply+859a9f...   \n",
              "9  \"Monika Bharti Jindal (Classroom)\" <no-reply+f...   \n",
              "\n",
              "                              Date  \\\n",
              "0   Thu, 2 Dec 2021 10:11:56 +0530   \n",
              "1  Mon, 29 Nov 2021 22:50:31 -0800   \n",
              "2  Tue, 23 Nov 2021 23:58:27 -0800   \n",
              "3  Sat, 13 Nov 2021 02:05:35 -0800   \n",
              "4  Fri, 26 Nov 2021 18:51:26 -0800   \n",
              "5  Fri, 12 Nov 2021 21:28:21 -0800   \n",
              "6  Wed, 24 Nov 2021 11:04:24 +0530   \n",
              "7  Fri, 22 Oct 2021 12:02:44 +0530   \n",
              "8  Sun, 07 Nov 2021 10:34:39 -0800   \n",
              "9  Wed, 13 Oct 2021 23:06:00 -0700   \n",
              "\n",
              "                                                  To  \\\n",
              "0                2019 Batch <2019batch@juitsolan.in>   \n",
              "1                                191328@juitsolan.in   \n",
              "2                                191328@juitsolan.in   \n",
              "3                                191328@juitsolan.in   \n",
              "4                                191328@juitsolan.in   \n",
              "5                                191328@juitsolan.in   \n",
              "6  2018 Batch <2018batch@juitsolan.in>, 2019 Batc...   \n",
              "7  cs51@juitsolan.in, cs52@juitsolan.in, cs53@jui...   \n",
              "8                                191328@juitsolan.in   \n",
              "9                                191328@juitsolan.in   \n",
              "\n",
              "                            X-Gmail-Labels           X-GM-THRID  \n",
              "0   Inbox,Important,Opened,Category forums  1718008242391626893  \n",
              "1  Inbox,Important,Opened,Category updates  1717834908504542210  \n",
              "2  Inbox,Important,Opened,Category updates  1717295601347155409  \n",
              "3  Inbox,Important,Opened,Category updates  1716307032633114260  \n",
              "4  Inbox,Important,Opened,Category updates  1717548075982427187  \n",
              "5  Inbox,Important,Opened,Category updates  1716289590093506462  \n",
              "6   Inbox,Important,Opened,Category forums  1717286750220539256  \n",
              "7   Inbox,Important,Opened,Category forums  1714300636339637401  \n",
              "8  Inbox,Important,Opened,Category updates  1715795478582737120  \n",
              "9  Inbox,Important,Opened,Category updates  1713574049984610468  "
            ]
          },
          "execution_count": 43,
          "metadata": {},
          "output_type": "execute_result"
        }
      ],
      "source": [
        "df.head(10)"
      ]
    },
    {
      "cell_type": "code",
      "execution_count": null,
      "id": "2316674f-2a7c-43de-afca-3e673b03a1fa",
      "metadata": {
        "id": "2316674f-2a7c-43de-afca-3e673b03a1fa",
        "outputId": "afeb90b2-f8f0-4b0b-e6c8-f9071bdac9e6"
      },
      "outputs": [
        {
          "name": "stdout",
          "output_type": "stream",
          "text": [
            "<class 'pandas.core.frame.DataFrame'>\n",
            "RangeIndex: 1802 entries, 0 to 1801\n",
            "Data columns (total 6 columns):\n",
            " #   Column          Non-Null Count  Dtype \n",
            "---  ------          --------------  ----- \n",
            " 0   Subject         1792 non-null   object\n",
            " 1   From            1802 non-null   object\n",
            " 2   Date            1802 non-null   object\n",
            " 3   To              1794 non-null   object\n",
            " 4   X-Gmail-Labels  1802 non-null   object\n",
            " 5   X-GM-THRID      1802 non-null   int64 \n",
            "dtypes: int64(1), object(5)\n",
            "memory usage: 84.6+ KB\n",
            "None\n"
          ]
        },
        {
          "data": {
            "text/plain": [
              "Subject           object\n",
              "From              object\n",
              "Date              object\n",
              "To                object\n",
              "X-Gmail-Labels    object\n",
              "X-GM-THRID         int64\n",
              "dtype: object"
            ]
          },
          "execution_count": 44,
          "metadata": {},
          "output_type": "execute_result"
        }
      ],
      "source": [
        "print(df.info())\n",
        "df.dtypes"
      ]
    },
    {
      "cell_type": "code",
      "execution_count": null,
      "id": "f5d14531-5ce9-4389-8b60-358d0bd87554",
      "metadata": {
        "id": "f5d14531-5ce9-4389-8b60-358d0bd87554"
      },
      "outputs": [],
      "source": [
        " df.dropna(subset=['Date'],inplace=True)"
      ]
    },
    {
      "cell_type": "code",
      "execution_count": null,
      "id": "d0e6222b-ca84-4249-80fc-f2e914ff7c5f",
      "metadata": {
        "id": "d0e6222b-ca84-4249-80fc-f2e914ff7c5f"
      },
      "outputs": [],
      "source": [
        "import os\n",
        "os.rename(\"mbox.csv\",\"gmail.csv\")"
      ]
    },
    {
      "cell_type": "code",
      "execution_count": null,
      "id": "060645af-496c-43ba-b5dc-db0509467e2e",
      "metadata": {
        "id": "060645af-496c-43ba-b5dc-db0509467e2e",
        "outputId": "be263937-b973-47c1-aa20-d91ada957d96"
      },
      "outputs": [
        {
          "data": {
            "text/html": [
              "<div>\n",
              "<style scoped>\n",
              "    .dataframe tbody tr th:only-of-type {\n",
              "        vertical-align: middle;\n",
              "    }\n",
              "\n",
              "    .dataframe tbody tr th {\n",
              "        vertical-align: top;\n",
              "    }\n",
              "\n",
              "    .dataframe thead th {\n",
              "        text-align: right;\n",
              "    }\n",
              "</style>\n",
              "<table border=\"1\" class=\"dataframe\">\n",
              "  <thead>\n",
              "    <tr style=\"text-align: right;\">\n",
              "      <th></th>\n",
              "      <th>Subject</th>\n",
              "      <th>From</th>\n",
              "      <th>Date</th>\n",
              "      <th>To</th>\n",
              "      <th>X-Gmail-Labels</th>\n",
              "      <th>X-GM-THRID</th>\n",
              "    </tr>\n",
              "  </thead>\n",
              "  <tbody>\n",
              "    <tr>\n",
              "      <th>0</th>\n",
              "      <td>Meeting with vice chancellor sir</td>\n",
              "      <td>Vivek Sehgal &lt;vivek.sehgal@juitsolan.in&gt;</td>\n",
              "      <td>Thu, 2 Dec 2021 10:11:56 +0530</td>\n",
              "      <td>2019 Batch &lt;2019batch@juitsolan.in&gt;</td>\n",
              "      <td>Inbox,Important,Opened,Category forums</td>\n",
              "      <td>1718008242391626893</td>\n",
              "    </tr>\n",
              "    <tr>\n",
              "      <th>1</th>\n",
              "      <td>New announcement: \"Join the meet link for quiz...</td>\n",
              "      <td>\"Monika Bharti Jindal (Classroom)\" &lt;no-reply+f...</td>\n",
              "      <td>Mon, 29 Nov 2021 22:50:31 -0800</td>\n",
              "      <td>191328@juitsolan.in</td>\n",
              "      <td>Inbox,Important,Opened,Category updates</td>\n",
              "      <td>1717834908504542210</td>\n",
              "    </tr>\n",
              "    <tr>\n",
              "      <th>2</th>\n",
              "      <td>New material: \"Practical 8\"</td>\n",
              "      <td>\"Ruchi Verma (Classroom)\" &lt;no-reply+5fec3f03@c...</td>\n",
              "      <td>Tue, 23 Nov 2021 23:58:27 -0800</td>\n",
              "      <td>191328@juitsolan.in</td>\n",
              "      <td>Inbox,Important,Opened,Category updates</td>\n",
              "      <td>1717295601347155409</td>\n",
              "    </tr>\n",
              "    <tr>\n",
              "      <th>3</th>\n",
              "      <td>New material: \"Polymer\"</td>\n",
              "      <td>\"Surajit Kumar Hazra (Classroom)\" &lt;no-reply+64...</td>\n",
              "      <td>Sat, 13 Nov 2021 02:05:35 -0800</td>\n",
              "      <td>191328@juitsolan.in</td>\n",
              "      <td>Inbox,Important,Opened,Category updates</td>\n",
              "      <td>1716307032633114260</td>\n",
              "    </tr>\n",
              "    <tr>\n",
              "      <th>4</th>\n",
              "      <td>New announcement: \"Class starts 9.15\"</td>\n",
              "      <td>\"Anupriya Kaur (Classroom)\" &lt;no-reply+aead32d5...</td>\n",
              "      <td>Fri, 26 Nov 2021 18:51:26 -0800</td>\n",
              "      <td>191328@juitsolan.in</td>\n",
              "      <td>Inbox,Important,Opened,Category updates</td>\n",
              "      <td>1717548075982427187</td>\n",
              "    </tr>\n",
              "    <tr>\n",
              "      <th>5</th>\n",
              "      <td>New assignment: \"Assignment -1\"</td>\n",
              "      <td>\"Praveen Modi (Classroom)\" &lt;no-reply+2056b0fa@...</td>\n",
              "      <td>Fri, 12 Nov 2021 21:28:21 -0800</td>\n",
              "      <td>191328@juitsolan.in</td>\n",
              "      <td>Inbox,Important,Opened,Category updates</td>\n",
              "      <td>1716289590093506462</td>\n",
              "    </tr>\n",
              "    <tr>\n",
              "      <th>6</th>\n",
              "      <td>Joint Placement Drive - HPPERC on November 25,...</td>\n",
              "      <td>Nafis uddin Khan &lt;nafisuddin.khan@juitsolan.in&gt;</td>\n",
              "      <td>Wed, 24 Nov 2021 11:04:24 +0530</td>\n",
              "      <td>2018 Batch &lt;2018batch@juitsolan.in&gt;, 2019 Batc...</td>\n",
              "      <td>Inbox,Important,Opened,Category forums</td>\n",
              "      <td>1717286750220539256</td>\n",
              "    </tr>\n",
              "    <tr>\n",
              "      <th>7</th>\n",
              "      <td>Instructions regarding Test-II examination</td>\n",
              "      <td>Vineet Sharma &lt;vineet.sharma@juitsolan.in&gt;</td>\n",
              "      <td>Fri, 22 Oct 2021 12:02:44 +0530</td>\n",
              "      <td>cs51@juitsolan.in, cs52@juitsolan.in, cs53@jui...</td>\n",
              "      <td>Inbox,Important,Opened,Category forums</td>\n",
              "      <td>1714300636339637401</td>\n",
              "    </tr>\n",
              "    <tr>\n",
              "      <th>8</th>\n",
              "      <td>Due tomorrow: 'Assignment 2'</td>\n",
              "      <td>\"Himanshu Jindal (Classroom)\" &lt;no-reply+859a9f...</td>\n",
              "      <td>Sun, 07 Nov 2021 10:34:39 -0800</td>\n",
              "      <td>191328@juitsolan.in</td>\n",
              "      <td>Inbox,Important,Opened,Category updates</td>\n",
              "      <td>1715795478582737120</td>\n",
              "    </tr>\n",
              "    <tr>\n",
              "      <th>9</th>\n",
              "      <td>=?UTF-8?Q?New_announcement=3A_=22Dear_Students...</td>\n",
              "      <td>\"Monika Bharti Jindal (Classroom)\" &lt;no-reply+f...</td>\n",
              "      <td>Wed, 13 Oct 2021 23:06:00 -0700</td>\n",
              "      <td>191328@juitsolan.in</td>\n",
              "      <td>Inbox,Important,Opened,Category updates</td>\n",
              "      <td>1713574049984610468</td>\n",
              "    </tr>\n",
              "  </tbody>\n",
              "</table>\n",
              "</div>"
            ],
            "text/plain": [
              "                                             Subject  \\\n",
              "0                   Meeting with vice chancellor sir   \n",
              "1  New announcement: \"Join the meet link for quiz...   \n",
              "2                        New material: \"Practical 8\"   \n",
              "3                            New material: \"Polymer\"   \n",
              "4              New announcement: \"Class starts 9.15\"   \n",
              "5                    New assignment: \"Assignment -1\"   \n",
              "6  Joint Placement Drive - HPPERC on November 25,...   \n",
              "7         Instructions regarding Test-II examination   \n",
              "8                       Due tomorrow: 'Assignment 2'   \n",
              "9  =?UTF-8?Q?New_announcement=3A_=22Dear_Students...   \n",
              "\n",
              "                                                From  \\\n",
              "0           Vivek Sehgal <vivek.sehgal@juitsolan.in>   \n",
              "1  \"Monika Bharti Jindal (Classroom)\" <no-reply+f...   \n",
              "2  \"Ruchi Verma (Classroom)\" <no-reply+5fec3f03@c...   \n",
              "3  \"Surajit Kumar Hazra (Classroom)\" <no-reply+64...   \n",
              "4  \"Anupriya Kaur (Classroom)\" <no-reply+aead32d5...   \n",
              "5  \"Praveen Modi (Classroom)\" <no-reply+2056b0fa@...   \n",
              "6    Nafis uddin Khan <nafisuddin.khan@juitsolan.in>   \n",
              "7         Vineet Sharma <vineet.sharma@juitsolan.in>   \n",
              "8  \"Himanshu Jindal (Classroom)\" <no-reply+859a9f...   \n",
              "9  \"Monika Bharti Jindal (Classroom)\" <no-reply+f...   \n",
              "\n",
              "                              Date  \\\n",
              "0   Thu, 2 Dec 2021 10:11:56 +0530   \n",
              "1  Mon, 29 Nov 2021 22:50:31 -0800   \n",
              "2  Tue, 23 Nov 2021 23:58:27 -0800   \n",
              "3  Sat, 13 Nov 2021 02:05:35 -0800   \n",
              "4  Fri, 26 Nov 2021 18:51:26 -0800   \n",
              "5  Fri, 12 Nov 2021 21:28:21 -0800   \n",
              "6  Wed, 24 Nov 2021 11:04:24 +0530   \n",
              "7  Fri, 22 Oct 2021 12:02:44 +0530   \n",
              "8  Sun, 07 Nov 2021 10:34:39 -0800   \n",
              "9  Wed, 13 Oct 2021 23:06:00 -0700   \n",
              "\n",
              "                                                  To  \\\n",
              "0                2019 Batch <2019batch@juitsolan.in>   \n",
              "1                                191328@juitsolan.in   \n",
              "2                                191328@juitsolan.in   \n",
              "3                                191328@juitsolan.in   \n",
              "4                                191328@juitsolan.in   \n",
              "5                                191328@juitsolan.in   \n",
              "6  2018 Batch <2018batch@juitsolan.in>, 2019 Batc...   \n",
              "7  cs51@juitsolan.in, cs52@juitsolan.in, cs53@jui...   \n",
              "8                                191328@juitsolan.in   \n",
              "9                                191328@juitsolan.in   \n",
              "\n",
              "                            X-Gmail-Labels           X-GM-THRID  \n",
              "0   Inbox,Important,Opened,Category forums  1718008242391626893  \n",
              "1  Inbox,Important,Opened,Category updates  1717834908504542210  \n",
              "2  Inbox,Important,Opened,Category updates  1717295601347155409  \n",
              "3  Inbox,Important,Opened,Category updates  1716307032633114260  \n",
              "4  Inbox,Important,Opened,Category updates  1717548075982427187  \n",
              "5  Inbox,Important,Opened,Category updates  1716289590093506462  \n",
              "6   Inbox,Important,Opened,Category forums  1717286750220539256  \n",
              "7   Inbox,Important,Opened,Category forums  1714300636339637401  \n",
              "8  Inbox,Important,Opened,Category updates  1715795478582737120  \n",
              "9  Inbox,Important,Opened,Category updates  1713574049984610468  "
            ]
          },
          "execution_count": 47,
          "metadata": {},
          "output_type": "execute_result"
        }
      ],
      "source": [
        "df.head(10)"
      ]
    },
    {
      "cell_type": "code",
      "execution_count": null,
      "id": "0e5b0f4e-8735-454a-aec4-658b1e5f28f7",
      "metadata": {
        "id": "0e5b0f4e-8735-454a-aec4-658b1e5f28f7",
        "outputId": "4b2c9d1d-f83b-49e8-96a3-2fa6d7614ab8"
      },
      "outputs": [
        {
          "data": {
            "text/plain": [
              "['enotice@enotice.ieee.org']"
            ]
          },
          "execution_count": 48,
          "metadata": {},
          "output_type": "execute_result"
        }
      ],
      "source": [
        "emailID('\"IEEE eNotice\" enotice@enotice.ieee.org')"
      ]
    },
    {
      "cell_type": "markdown",
      "id": "c21f5ca4-753e-45f5-ac4c-5b93f7095d28",
      "metadata": {
        "id": "c21f5ca4-753e-45f5-ac4c-5b93f7095d28"
      },
      "source": [
        "### Refractoring the dataset"
      ]
    },
    {
      "cell_type": "code",
      "execution_count": null,
      "id": "9da02c5e-c2fb-4524-a9c9-789f1416ce30",
      "metadata": {
        "id": "9da02c5e-c2fb-4524-a9c9-789f1416ce30",
        "outputId": "4317e5ec-fda8-479d-f34d-9739018c1d7f"
      },
      "outputs": [
        {
          "data": {
            "text/html": [
              "<div>\n",
              "<style scoped>\n",
              "    .dataframe tbody tr th:only-of-type {\n",
              "        vertical-align: middle;\n",
              "    }\n",
              "\n",
              "    .dataframe tbody tr th {\n",
              "        vertical-align: top;\n",
              "    }\n",
              "\n",
              "    .dataframe thead th {\n",
              "        text-align: right;\n",
              "    }\n",
              "</style>\n",
              "<table border=\"1\" class=\"dataframe\">\n",
              "  <thead>\n",
              "    <tr style=\"text-align: right;\">\n",
              "      <th></th>\n",
              "      <th>Subject</th>\n",
              "      <th>From</th>\n",
              "      <th>Date</th>\n",
              "      <th>To</th>\n",
              "      <th>X-Gmail-Labels</th>\n",
              "      <th>X-GM-THRID</th>\n",
              "    </tr>\n",
              "  </thead>\n",
              "  <tbody>\n",
              "    <tr>\n",
              "      <th>0</th>\n",
              "      <td>Meeting with vice chancellor sir</td>\n",
              "      <td>Vivek Sehgal &lt;vivek.sehgal@juitsolan.in&gt;</td>\n",
              "      <td>Thu, 2 Dec 2021 10:11:56 +0530</td>\n",
              "      <td>2019 Batch &lt;2019batch@juitsolan.in&gt;</td>\n",
              "      <td>Inbox,Important,Opened,Category forums</td>\n",
              "      <td>1718008242391626893</td>\n",
              "    </tr>\n",
              "    <tr>\n",
              "      <th>1</th>\n",
              "      <td>New announcement: \"Join the meet link for quiz...</td>\n",
              "      <td>\"Monika Bharti Jindal (Classroom)\" &lt;no-reply+f...</td>\n",
              "      <td>Mon, 29 Nov 2021 22:50:31 -0800</td>\n",
              "      <td>191328@juitsolan.in</td>\n",
              "      <td>Inbox,Important,Opened,Category updates</td>\n",
              "      <td>1717834908504542210</td>\n",
              "    </tr>\n",
              "  </tbody>\n",
              "</table>\n",
              "</div>"
            ],
            "text/plain": [
              "                                             Subject  \\\n",
              "0                   Meeting with vice chancellor sir   \n",
              "1  New announcement: \"Join the meet link for quiz...   \n",
              "\n",
              "                                                From  \\\n",
              "0           Vivek Sehgal <vivek.sehgal@juitsolan.in>   \n",
              "1  \"Monika Bharti Jindal (Classroom)\" <no-reply+f...   \n",
              "\n",
              "                              Date                                   To  \\\n",
              "0   Thu, 2 Dec 2021 10:11:56 +0530  2019 Batch <2019batch@juitsolan.in>   \n",
              "1  Mon, 29 Nov 2021 22:50:31 -0800                  191328@juitsolan.in   \n",
              "\n",
              "                            X-Gmail-Labels           X-GM-THRID  \n",
              "0   Inbox,Important,Opened,Category forums  1718008242391626893  \n",
              "1  Inbox,Important,Opened,Category updates  1717834908504542210  "
            ]
          },
          "execution_count": 49,
          "metadata": {},
          "output_type": "execute_result"
        }
      ],
      "source": [
        "new_df = df\n",
        "new_df['From']=df['From'].astype(str)\n",
        "new_df.head(2)"
      ]
    },
    {
      "cell_type": "markdown",
      "id": "ecb1bc76-86a8-4126-bb82-e8087d273a1a",
      "metadata": {
        "id": "ecb1bc76-86a8-4126-bb82-e8087d273a1a"
      },
      "source": [
        "### Printing e-Mail Id"
      ]
    },
    {
      "cell_type": "code",
      "execution_count": null,
      "id": "0709d047-32ee-49c0-b184-552f1eab3c1d",
      "metadata": {
        "id": "0709d047-32ee-49c0-b184-552f1eab3c1d",
        "outputId": "845ff46e-6996-4726-eecb-1f42b1d78eb9"
      },
      "outputs": [
        {
          "data": {
            "text/plain": [
              "0                 [<vivek.sehgal@juitsolan.in>]\n",
              "1    [<no-reply+f85a5c2d@classroom.google.com>]\n",
              "2    [<no-reply+5fec3f03@classroom.google.com>]\n",
              "3    [<no-reply+64608434@classroom.google.com>]\n",
              "4    [<no-reply+aead32d5@classroom.google.com>]\n",
              "5    [<no-reply+2056b0fa@classroom.google.com>]\n",
              "6              [<nafisuddin.khan@juitsolan.in>]\n",
              "7                [<vineet.sharma@juitsolan.in>]\n",
              "8    [<no-reply+859a9f6f@classroom.google.com>]\n",
              "9    [<no-reply+f85a5c2d@classroom.google.com>]\n",
              "Name: From, dtype: object"
            ]
          },
          "execution_count": 50,
          "metadata": {},
          "output_type": "execute_result"
        }
      ],
      "source": [
        "df['From'].apply(emailID).head(10)"
      ]
    },
    {
      "cell_type": "code",
      "execution_count": null,
      "id": "e34c3baa-c7ce-4f5b-970f-4bc4e47fcde0",
      "metadata": {
        "id": "e34c3baa-c7ce-4f5b-970f-4bc4e47fcde0",
        "outputId": "0deb4437-36a4-4679-c315-0dc69d7d5e31"
      },
      "outputs": [
        {
          "name": "stdout",
          "output_type": "stream",
          "text": [
            "0       [INBOX]\n",
            "1       [INBOX]\n",
            "2       [INBOX]\n",
            "3       [INBOX]\n",
            "4       [INBOX]\n",
            "         ...   \n",
            "1797    [INBOX]\n",
            "1798    [INBOX]\n",
            "1799    [INBOX]\n",
            "1800    [INBOX]\n",
            "1801    [INBOX]\n",
            "Name: X-Gmail-Labels, Length: 1802, dtype: object\n"
          ]
        }
      ],
      "source": [
        "df['X-Gmail-Labels'] = new_df['From'].apply(lambda x:'Sent' if x=='YASHARTH 191328 <191328@juitsolan.in>' else \"[INBOX]\")\n",
        "print(df['X-Gmail-Labels'])"
      ]
    },
    {
      "cell_type": "markdown",
      "id": "9243db45-a637-434d-bfe3-d67905ff4662",
      "metadata": {
        "id": "9243db45-a637-434d-bfe3-d67905ff4662"
      },
      "source": [
        "### Drop 'TO' column from dataset"
      ]
    },
    {
      "cell_type": "code",
      "execution_count": null,
      "id": "002baf93-ef9b-4ac1-9a58-2a824a307573",
      "metadata": {
        "id": "002baf93-ef9b-4ac1-9a58-2a824a307573"
      },
      "outputs": [],
      "source": [
        "df = df.drop(['To'],axis=1)"
      ]
    },
    {
      "cell_type": "code",
      "execution_count": null,
      "id": "9927d324-5372-4dac-88c9-3ddfa1c34fb3",
      "metadata": {
        "id": "9927d324-5372-4dac-88c9-3ddfa1c34fb3",
        "outputId": "85d844e0-a95c-441d-98ea-06e94858e687"
      },
      "outputs": [
        {
          "name": "stdout",
          "output_type": "stream",
          "text": [
            "Index(['Subject', 'From', 'Date', 'X-Gmail-Labels', 'X-GM-THRID'], dtype='object')\n"
          ]
        }
      ],
      "source": [
        "print(df.columns)"
      ]
    },
    {
      "cell_type": "code",
      "execution_count": null,
      "id": "13915a9b-6205-4a84-854e-cd4bdb45f859",
      "metadata": {
        "id": "13915a9b-6205-4a84-854e-cd4bdb45f859",
        "outputId": "c66ad472-6666-45e6-e0a9-3da0aedcc938"
      },
      "outputs": [
        {
          "data": {
            "text/html": [
              "<div>\n",
              "<style scoped>\n",
              "    .dataframe tbody tr th:only-of-type {\n",
              "        vertical-align: middle;\n",
              "    }\n",
              "\n",
              "    .dataframe tbody tr th {\n",
              "        vertical-align: top;\n",
              "    }\n",
              "\n",
              "    .dataframe thead th {\n",
              "        text-align: right;\n",
              "    }\n",
              "</style>\n",
              "<table border=\"1\" class=\"dataframe\">\n",
              "  <thead>\n",
              "    <tr style=\"text-align: right;\">\n",
              "      <th></th>\n",
              "      <th>Subject</th>\n",
              "      <th>From</th>\n",
              "      <th>Date</th>\n",
              "      <th>X-Gmail-Labels</th>\n",
              "      <th>X-GM-THRID</th>\n",
              "    </tr>\n",
              "  </thead>\n",
              "  <tbody>\n",
              "    <tr>\n",
              "      <th>0</th>\n",
              "      <td>Meeting with vice chancellor sir</td>\n",
              "      <td>Vivek Sehgal &lt;vivek.sehgal@juitsolan.in&gt;</td>\n",
              "      <td>Thu, 2 Dec 2021 10:11:56 +0530</td>\n",
              "      <td>[INBOX]</td>\n",
              "      <td>1718008242391626893</td>\n",
              "    </tr>\n",
              "    <tr>\n",
              "      <th>1</th>\n",
              "      <td>New announcement: \"Join the meet link for quiz...</td>\n",
              "      <td>\"Monika Bharti Jindal (Classroom)\" &lt;no-reply+f...</td>\n",
              "      <td>Mon, 29 Nov 2021 22:50:31 -0800</td>\n",
              "      <td>[INBOX]</td>\n",
              "      <td>1717834908504542210</td>\n",
              "    </tr>\n",
              "    <tr>\n",
              "      <th>2</th>\n",
              "      <td>New material: \"Practical 8\"</td>\n",
              "      <td>\"Ruchi Verma (Classroom)\" &lt;no-reply+5fec3f03@c...</td>\n",
              "      <td>Tue, 23 Nov 2021 23:58:27 -0800</td>\n",
              "      <td>[INBOX]</td>\n",
              "      <td>1717295601347155409</td>\n",
              "    </tr>\n",
              "    <tr>\n",
              "      <th>3</th>\n",
              "      <td>New material: \"Polymer\"</td>\n",
              "      <td>\"Surajit Kumar Hazra (Classroom)\" &lt;no-reply+64...</td>\n",
              "      <td>Sat, 13 Nov 2021 02:05:35 -0800</td>\n",
              "      <td>[INBOX]</td>\n",
              "      <td>1716307032633114260</td>\n",
              "    </tr>\n",
              "    <tr>\n",
              "      <th>4</th>\n",
              "      <td>New announcement: \"Class starts 9.15\"</td>\n",
              "      <td>\"Anupriya Kaur (Classroom)\" &lt;no-reply+aead32d5...</td>\n",
              "      <td>Fri, 26 Nov 2021 18:51:26 -0800</td>\n",
              "      <td>[INBOX]</td>\n",
              "      <td>1717548075982427187</td>\n",
              "    </tr>\n",
              "    <tr>\n",
              "      <th>5</th>\n",
              "      <td>New assignment: \"Assignment -1\"</td>\n",
              "      <td>\"Praveen Modi (Classroom)\" &lt;no-reply+2056b0fa@...</td>\n",
              "      <td>Fri, 12 Nov 2021 21:28:21 -0800</td>\n",
              "      <td>[INBOX]</td>\n",
              "      <td>1716289590093506462</td>\n",
              "    </tr>\n",
              "    <tr>\n",
              "      <th>6</th>\n",
              "      <td>Joint Placement Drive - HPPERC on November 25,...</td>\n",
              "      <td>Nafis uddin Khan &lt;nafisuddin.khan@juitsolan.in&gt;</td>\n",
              "      <td>Wed, 24 Nov 2021 11:04:24 +0530</td>\n",
              "      <td>[INBOX]</td>\n",
              "      <td>1717286750220539256</td>\n",
              "    </tr>\n",
              "    <tr>\n",
              "      <th>7</th>\n",
              "      <td>Instructions regarding Test-II examination</td>\n",
              "      <td>Vineet Sharma &lt;vineet.sharma@juitsolan.in&gt;</td>\n",
              "      <td>Fri, 22 Oct 2021 12:02:44 +0530</td>\n",
              "      <td>[INBOX]</td>\n",
              "      <td>1714300636339637401</td>\n",
              "    </tr>\n",
              "    <tr>\n",
              "      <th>8</th>\n",
              "      <td>Due tomorrow: 'Assignment 2'</td>\n",
              "      <td>\"Himanshu Jindal (Classroom)\" &lt;no-reply+859a9f...</td>\n",
              "      <td>Sun, 07 Nov 2021 10:34:39 -0800</td>\n",
              "      <td>[INBOX]</td>\n",
              "      <td>1715795478582737120</td>\n",
              "    </tr>\n",
              "    <tr>\n",
              "      <th>9</th>\n",
              "      <td>=?UTF-8?Q?New_announcement=3A_=22Dear_Students...</td>\n",
              "      <td>\"Monika Bharti Jindal (Classroom)\" &lt;no-reply+f...</td>\n",
              "      <td>Wed, 13 Oct 2021 23:06:00 -0700</td>\n",
              "      <td>[INBOX]</td>\n",
              "      <td>1713574049984610468</td>\n",
              "    </tr>\n",
              "  </tbody>\n",
              "</table>\n",
              "</div>"
            ],
            "text/plain": [
              "                                             Subject  \\\n",
              "0                   Meeting with vice chancellor sir   \n",
              "1  New announcement: \"Join the meet link for quiz...   \n",
              "2                        New material: \"Practical 8\"   \n",
              "3                            New material: \"Polymer\"   \n",
              "4              New announcement: \"Class starts 9.15\"   \n",
              "5                    New assignment: \"Assignment -1\"   \n",
              "6  Joint Placement Drive - HPPERC on November 25,...   \n",
              "7         Instructions regarding Test-II examination   \n",
              "8                       Due tomorrow: 'Assignment 2'   \n",
              "9  =?UTF-8?Q?New_announcement=3A_=22Dear_Students...   \n",
              "\n",
              "                                                From  \\\n",
              "0           Vivek Sehgal <vivek.sehgal@juitsolan.in>   \n",
              "1  \"Monika Bharti Jindal (Classroom)\" <no-reply+f...   \n",
              "2  \"Ruchi Verma (Classroom)\" <no-reply+5fec3f03@c...   \n",
              "3  \"Surajit Kumar Hazra (Classroom)\" <no-reply+64...   \n",
              "4  \"Anupriya Kaur (Classroom)\" <no-reply+aead32d5...   \n",
              "5  \"Praveen Modi (Classroom)\" <no-reply+2056b0fa@...   \n",
              "6    Nafis uddin Khan <nafisuddin.khan@juitsolan.in>   \n",
              "7         Vineet Sharma <vineet.sharma@juitsolan.in>   \n",
              "8  \"Himanshu Jindal (Classroom)\" <no-reply+859a9f...   \n",
              "9  \"Monika Bharti Jindal (Classroom)\" <no-reply+f...   \n",
              "\n",
              "                              Date X-Gmail-Labels           X-GM-THRID  \n",
              "0   Thu, 2 Dec 2021 10:11:56 +0530        [INBOX]  1718008242391626893  \n",
              "1  Mon, 29 Nov 2021 22:50:31 -0800        [INBOX]  1717834908504542210  \n",
              "2  Tue, 23 Nov 2021 23:58:27 -0800        [INBOX]  1717295601347155409  \n",
              "3  Sat, 13 Nov 2021 02:05:35 -0800        [INBOX]  1716307032633114260  \n",
              "4  Fri, 26 Nov 2021 18:51:26 -0800        [INBOX]  1717548075982427187  \n",
              "5  Fri, 12 Nov 2021 21:28:21 -0800        [INBOX]  1716289590093506462  \n",
              "6  Wed, 24 Nov 2021 11:04:24 +0530        [INBOX]  1717286750220539256  \n",
              "7  Fri, 22 Oct 2021 12:02:44 +0530        [INBOX]  1714300636339637401  \n",
              "8  Sun, 07 Nov 2021 10:34:39 -0800        [INBOX]  1715795478582737120  \n",
              "9  Wed, 13 Oct 2021 23:06:00 -0700        [INBOX]  1713574049984610468  "
            ]
          },
          "execution_count": 54,
          "metadata": {},
          "output_type": "execute_result"
        }
      ],
      "source": [
        "df.head(10)"
      ]
    },
    {
      "cell_type": "code",
      "execution_count": null,
      "id": "c5231336-9b58-479a-8967-220ee3be7cc8",
      "metadata": {
        "id": "c5231336-9b58-479a-8967-220ee3be7cc8",
        "outputId": "bce17049-b050-477e-ea7e-2230c42a4d08"
      },
      "outputs": [
        {
          "data": {
            "text/plain": [
              "[INBOX]    1778\n",
              "Sent         24\n",
              "Name: X-Gmail-Labels, dtype: int64"
            ]
          },
          "execution_count": 55,
          "metadata": {},
          "output_type": "execute_result"
        }
      ],
      "source": [
        "new_df['X-Gmail-Labels'].value_counts()"
      ]
    },
    {
      "cell_type": "code",
      "execution_count": null,
      "id": "c36fd65e-9ef0-4430-9746-ce2f7a4ea38c",
      "metadata": {
        "id": "c36fd65e-9ef0-4430-9746-ce2f7a4ea38c"
      },
      "outputs": [],
      "source": [
        "list_of_labels = list(new_df['X-Gmail-Labels'].value_counts().index)"
      ]
    },
    {
      "cell_type": "code",
      "execution_count": null,
      "id": "d2960c70-cb75-4d84-8a07-74c74f164126",
      "metadata": {
        "id": "d2960c70-cb75-4d84-8a07-74c74f164126",
        "outputId": "24a94fa5-da09-4bdb-92bf-ef37376d14fd"
      },
      "outputs": [
        {
          "data": {
            "image/png": "[encoded data removed]",
            "text/plain": [
              "<Figure size 432x288 with 1 Axes>"
            ]
          },
          "metadata": {
            "needs_background": "light"
          },
          "output_type": "display_data"
        }
      ],
      "source": [
        "y_axis = list_of_labels\n",
        "x_axis = new_df['X-Gmail-Labels'].value_counts()\n",
        "plt.bar(y_axis,x_axis)\n",
        "#plt.tick_params(axis='y', which='major', labelsize=10)\n",
        "plt.ylabel(\"Count\")\n",
        "plt.xlabel(\"Catogories\")\n",
        "plt.title(\"Email Count\")\n",
        "plt.show()"
      ]
    },
    {
      "cell_type": "code",
      "execution_count": null,
      "id": "62ed0154-ce29-4b28-99d8-2f89d1f9a290",
      "metadata": {
        "id": "62ed0154-ce29-4b28-99d8-2f89d1f9a290"
      },
      "outputs": [],
      "source": [
        "date_df = df"
      ]
    },
    {
      "cell_type": "code",
      "execution_count": null,
      "id": "5af97ade-fe7d-4738-aca2-1fc42699019a",
      "metadata": {
        "id": "5af97ade-fe7d-4738-aca2-1fc42699019a",
        "outputId": "5319ae86-e29c-4ca9-f078-2bc3aeb26798"
      },
      "outputs": [
        {
          "data": {
            "text/plain": [
              "0        Thu, 2 Dec 2021 10:11:56 +0530\n",
              "1       Mon, 29 Nov 2021 22:50:31 -0800\n",
              "2       Tue, 23 Nov 2021 23:58:27 -0800\n",
              "3       Sat, 13 Nov 2021 02:05:35 -0800\n",
              "4       Fri, 26 Nov 2021 18:51:26 -0800\n",
              "                     ...               \n",
              "1797     Sat, 9 Oct 2021 11:26:14 +0530\n",
              "1798     Thu, 2 Dec 2021 12:33:23 +0000\n",
              "1799    Fri, 19 Nov 2021 09:34:16 +0530\n",
              "1800    Thu, 08 Jul 2021 11:29:42 -0700\n",
              "1801    Wed, 18 Aug 2021 22:54:00 -0700\n",
              "Name: Date, Length: 1802, dtype: object"
            ]
          },
          "execution_count": 59,
          "metadata": {},
          "output_type": "execute_result"
        }
      ],
      "source": [
        "date_df['Date']"
      ]
    },
    {
      "cell_type": "code",
      "execution_count": null,
      "id": "6bbab412-337b-4d2d-8d30-cbae3d6b73b5",
      "metadata": {
        "id": "6bbab412-337b-4d2d-8d30-cbae3d6b73b5"
      },
      "outputs": [],
      "source": [
        "date_df['Date'] = pd.to_datetime(date_df['Date'], errors='coerce')\n",
        "date_val = date_df['Date'].value_counts()\n"
      ]
    },
    {
      "cell_type": "code",
      "execution_count": null,
      "id": "56bff776-38b7-4059-b785-1a130e88d2e0",
      "metadata": {
        "id": "56bff776-38b7-4059-b785-1a130e88d2e0",
        "outputId": "ef7a549f-d97b-4096-8170-88fa36ed7da7"
      },
      "outputs": [
        {
          "data": {
            "text/plain": [
              "{20: 139,\n",
              " 0: 71,\n",
              " 12: 77,\n",
              " 22: 140,\n",
              " 16: 74,\n",
              " 21: 161,\n",
              " 10: 113,\n",
              " 11: 124,\n",
              " 14: 43,\n",
              " 5: 37,\n",
              " 1: 84,\n",
              " 17: 55,\n",
              " 3: 91,\n",
              " 13: 44,\n",
              " 9: 79,\n",
              " 7: 23,\n",
              " 2: 87,\n",
              " 15: 55,\n",
              " 23: 105,\n",
              " 19: 70,\n",
              " 4: 49,\n",
              " 6: 25,\n",
              " 8: 30,\n",
              " 18: 22}"
            ]
          },
          "execution_count": 61,
          "metadata": {},
          "output_type": "execute_result"
        }
      ],
      "source": [
        "mail_hour = dict()\n",
        "for i in date_val.keys():\n",
        "    key_d = str(i)\n",
        "    key_d = int(key_d[11:13])\n",
        "    if(key_d in mail_hour):\n",
        "        mail_hour.update({key_d : mail_hour[key_d]+1})\n",
        "    else:\n",
        "        mail_hour.update({key_d : 1})\n",
        "\n",
        "mail_hour"
      ]
    },
    {
      "cell_type": "markdown",
      "id": "a65ce603-16a5-4d17-a22b-f712237adbc6",
      "metadata": {
        "id": "a65ce603-16a5-4d17-a22b-f712237adbc6"
      },
      "source": [
        "### Emails per hour"
      ]
    },
    {
      "cell_type": "code",
      "execution_count": null,
      "id": "67790206-eb2a-4ffc-8162-db7d6129574d",
      "metadata": {
        "id": "67790206-eb2a-4ffc-8162-db7d6129574d",
        "outputId": "f761fc95-3f3b-45f7-adf3-d7f507e0610a"
      },
      "outputs": [
        {
          "data": {
            "text/plain": [
              "{20: 7,\n",
              " 0: 3,\n",
              " 12: 4,\n",
              " 22: 7,\n",
              " 16: 4,\n",
              " 21: 8,\n",
              " 10: 6,\n",
              " 11: 6,\n",
              " 14: 2,\n",
              " 5: 2,\n",
              " 1: 4,\n",
              " 17: 3,\n",
              " 3: 5,\n",
              " 13: 2,\n",
              " 9: 4,\n",
              " 7: 1,\n",
              " 2: 4,\n",
              " 15: 3,\n",
              " 23: 5,\n",
              " 19: 3,\n",
              " 4: 2,\n",
              " 6: 1,\n",
              " 8: 1,\n",
              " 18: 1}"
            ]
          },
          "execution_count": 62,
          "metadata": {},
          "output_type": "execute_result"
        }
      ],
      "source": [
        "#emails per hour per hr\n",
        "import math\n",
        "from collections import OrderedDict\n",
        "for i in mail_hour:\n",
        "    mail_hour[i] = math.floor(mail_hour[i]*100/1802)\n",
        "mail_hour"
      ]
    },
    {
      "cell_type": "markdown",
      "id": "1cda140d-d5f4-477f-b909-4d1854ea73d8",
      "metadata": {
        "id": "1cda140d-d5f4-477f-b909-4d1854ea73d8"
      },
      "source": [
        "### Average Value / Day"
      ]
    },
    {
      "cell_type": "code",
      "execution_count": null,
      "id": "31f77a83-d3de-4cb8-a26c-85c67a6961ab",
      "metadata": {
        "id": "31f77a83-d3de-4cb8-a26c-85c67a6961ab",
        "outputId": "b5c3dda7-a576-436f-8aa5-dc7742573237"
      },
      "outputs": [
        {
          "data": {
            "text/plain": [
              "3.6666666666666665"
            ]
          },
          "execution_count": 63,
          "metadata": {},
          "output_type": "execute_result"
        }
      ],
      "source": [
        "sum(mail_hour.values())/24"
      ]
    },
    {
      "cell_type": "markdown",
      "id": "5b7f1bd6-cae0-4f63-9043-db43ac0fc1fe",
      "metadata": {
        "id": "5b7f1bd6-cae0-4f63-9043-db43ac0fc1fe"
      },
      "source": [
        "### Plot of 'Rate of e-Mails per hour'"
      ]
    },
    {
      "cell_type": "code",
      "execution_count": null,
      "id": "d7ffef08-0153-4700-a508-e85fc1e6c51a",
      "metadata": {
        "id": "d7ffef08-0153-4700-a508-e85fc1e6c51a",
        "outputId": "b7835909-8551-4fa4-8cce-a3075085ab72"
      },
      "outputs": [
        {
          "data": {
            "image/png": "[encoded data removed]",
            "text/plain": [
              "<Figure size 432x288 with 1 Axes>"
            ]
          },
          "metadata": {
            "needs_background": "light"
          },
          "output_type": "display_data"
        }
      ],
      "source": [
        "plt.bar(mail_hour.keys(),mail_hour.values())\n",
        "plt.xlabel(\"Hours\")\n",
        "plt.ylabel(\"Rate\")\n",
        "plt.title(\"Rate of e-Mails per hour\")\n",
        "plt.show()"
      ]
    },
    {
      "cell_type": "markdown",
      "id": "046ff6e5-d514-4e26-8688-26c064d319d2",
      "metadata": {
        "id": "046ff6e5-d514-4e26-8688-26c064d319d2"
      },
      "source": [
        "### MoST COMMON e-MAILS"
      ]
    },
    {
      "cell_type": "code",
      "execution_count": null,
      "id": "25a2575b-f7ea-42dc-8855-ff67bc45b491",
      "metadata": {
        "id": "25a2575b-f7ea-42dc-8855-ff67bc45b491",
        "outputId": "3aebec4c-d544-4e45-8857-84b001d5343f"
      },
      "outputs": [
        {
          "name": "stdout",
          "output_type": "stream",
          "text": [
            "triambica.gautam@juitsolan.in\n"
          ]
        }
      ],
      "source": [
        "print(df['From'].max())"
      ]
    }
  ],
  "metadata": {
    "kernelspec": {
      "display_name": "Python 3",
      "language": "python",
      "name": "python3"
    },
    "language_info": {
      "codemirror_mode": {
        "name": "ipython",
        "version": 3
      },
      "file_extension": ".py",
      "mimetype": "text/x-python",
      "name": "python",
      "nbconvert_exporter": "python",
      "pygments_lexer": "ipython3",
      "version": "3.8.8"
    },
    "colab": {
      "name": "Email Analysis.ipynb",
      "provenance": [],
      "collapsed_sections": [],
      "include_colab_link": true
    }
  },
  "nbformat": 4,
  "nbformat_minor": 5
}